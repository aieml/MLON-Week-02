{
 "cells": [
  {
   "cell_type": "code",
   "execution_count": null,
   "metadata": {},
   "outputs": [],
   "source": [
    "import cv2\n",
    "\n",
    "camera=cv2.VideoCapture(0)\n",
    "#Loading a video source\n",
    "#0-default webcam\n",
    "#1,2,... usb cameras\n",
    "#video file path ('Samples 1/sample_video.MP4')\n",
    "#ip address for an wifi camera\n",
    "\n",
    "while(True):\n",
    "    ret,img=camera.read()\n",
    "    #reading 1 frame from the video source\n",
    "    #ret - 1/0 1-when video source is available, 0-when video source is not available\n",
    "    #img - the captured frame\n",
    "    \n",
    "    cv2.rectangle(img,(100,100),(150,200),(0,255,0),2)\n",
    "    \n",
    "    if (ret==True):\n",
    "\n",
    "        cv2.imshow('LIVE',img)\n",
    "        key=cv2.waitKey(1)\n",
    "        #print(key)\n",
    "        if(key==27):\n",
    "            break\n",
    "\n",
    "cv2.destroyAllWindows()\n",
    "camera.release()"
   ]
  },
  {
   "cell_type": "code",
   "execution_count": null,
   "metadata": {},
   "outputs": [],
   "source": []
  }
 ],
 "metadata": {
  "kernelspec": {
   "display_name": "Python 3",
   "language": "python",
   "name": "python3"
  },
  "language_info": {
   "codemirror_mode": {
    "name": "ipython",
    "version": 3
   },
   "file_extension": ".py",
   "mimetype": "text/x-python",
   "name": "python",
   "nbconvert_exporter": "python",
   "pygments_lexer": "ipython3",
   "version": "3.7.4"
  }
 },
 "nbformat": 4,
 "nbformat_minor": 2
}
